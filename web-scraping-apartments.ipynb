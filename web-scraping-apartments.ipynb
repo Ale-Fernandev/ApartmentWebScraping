{
 "cells": [
  {
   "cell_type": "markdown",
   "id": "851ebe43",
   "metadata": {},
   "source": [
    "# Websites To Scrape : \n",
    "    - Zillow.com\n",
    "    - Apartments.com\n",
    "    - Rent.com\n",
    "    - Trulia.co \n",
    "    - Craigslist(Potentially)"
   ]
  },
  {
   "cell_type": "code",
   "execution_count": 4,
   "id": "3d6f0aac",
   "metadata": {},
   "outputs": [],
   "source": [
    "from selenium import webdriver\n",
    "    # extra classes needed \n",
    "from selenium.webdriver.common.by import By\n",
    "from selenium.webdriver.common.keys import Keys\n",
    "from selenium.webdriver.support.ui import WebDriverWait\n",
    "from selenium.webdriver.support import expected_conditions as EC\n",
    "from selenium.common.exceptions import NoSuchElementException, TimeoutException\n",
    "\n",
    "\n",
    "rent_url = 'https://www.rent.com/zip-46062-apartments/studio?bbox=-86.2760%2C39.8292%2C-85.8146%2C40.2183'\n",
    "apartments_url = ''\n",
    "trulia_url = ''\n",
    "zillow_url = ''\n",
    "\n",
    "#driver = webdriver.Chrome()\n",
    "#driver.get(rent_url)"
   ]
  },
  {
   "cell_type": "markdown",
   "id": "4f7f5ec1",
   "metadata": {},
   "source": [
    "# Experimenting with rent.com scraping \n",
    " - HTML INFORMATION "
   ]
  },
  {
   "cell_type": "code",
   "execution_count": null,
   "id": "291f60a2",
   "metadata": {},
   "outputs": [],
   "source": [
    "# Apartment Listing Hierachy -\n",
    "\n",
    "# section of all offers --> section class='_f574d80e' \n",
    "# listings columns --> ul class='_135203e1'\n",
    "# individual offers in each column --> li class='_ebc85881 _daeb6c9b\n",
    "# individual offers information master --> div class='_e67df3bb'\n",
    "# ^ from this we can retrive <a> href - link to apartment\n",
    "#    span class='_cbd12d2a' for price\n",
    "#    p class='_06bd281d' for information\n",
    "\n",
    "# container of prev,next and page numbers  -- > div class='_f23ab8ab'\n",
    "# this is a previous button -- > span class='_15b8dca2' \n",
    "# the previous button --> button class='_1086c3bf _62da701e _51302580'\n",
    "# the page numbers are under a --> div class='_2487c0b0'\n",
    "# the page number you are currently under is a --> span class='_9c67b67d _a6999cfe'\n",
    "# and the other pages are a --> span class='_9c67b67d'\n",
    "# all pages have a data-tag_item = \"(the number of page.. ex: 1,2,3)\"\n",
    "# the next button is a --> span class='_15b8dca2 _16f2ee13'"
   ]
  },
  {
   "cell_type": "markdown",
   "id": "87f47e08",
   "metadata": {},
   "source": [
    " - ATTEMPTING TO RETRIVE INFORMATION FROM WEBSITE"
   ]
  },
  {
   "cell_type": "code",
   "execution_count": 5,
   "id": "21069dbf",
   "metadata": {},
   "outputs": [
    {
     "name": "stdout",
     "output_type": "stream",
     "text": [
      "Link: https://www.rent.com/indiana/carmel-apartments/the-residences-at-the-playfair-4-100078078, Price: $1,095+, Info: The Residences at The Playfair\n",
      "Link: https://www.rent.com/indiana/indianapolis-apartments/the-meridian-south-4-453232, Price: $799+, Info: The Meridian South\n",
      "Link: https://www.rent.com/indiana/carmel-apartments/wentworth-at-west-clay-4-465882, Price: $1,150, Info: Wentworth At West Clay\n",
      "Link: https://www.rent.com/indiana/indianapolis-apartments/the-coil-4-100062364, Price: $1,199+, Info: The Coil\n",
      "Link: https://www.rent.com/indiana/indianapolis-apartments/ironworks-at-keystone-4-64380208, Price: $1,298+, Info: Ironworks at Keystone\n",
      "Link: https://www.rent.com/indiana/carmel-apartments/twin-lakes-4-100013315, Price: $685+, Info: Twin Lakes\n",
      "Link: https://www.rent.com/indiana/indianapolis-apartments/meridian-lakes-4-451155, Price: Contact for Price, Info: Meridian Lakes\n",
      "Link: https://www.rent.com/indiana/indianapolis-apartments/furnished-studio-indianapolis-northwest-college-park-4-100033031, Price: $1,500, Info: Furnished Studio - Indianapolis - Northwest - College Park\n",
      "Link: https://www.rent.com/indiana/indianapolis-apartments/quarry-at-river-north-4-100063743, Price: $1,355+, Info: Quarry at River North\n",
      "Link: https://www.rent.com/indiana/indianapolis-apartments/furnished-studio-indianapolis-west-86th-st-4-100033028, Price: $1,996, Info: Furnished Studio - Indianapolis - West 86th St.\n",
      "Link: https://www.rent.com/indiana/indianapolis-apartments/furnished-studio-indianapolis-north-carmel-4-100033029, Price: $1,799, Info: Furnished Studio - Indianapolis - North - Carmel\n",
      "Link: https://www.rent.com/indiana/indianapolis-apartments/chateau-de-ville-4-100010835, Price: $881+, Info: Chateau de Ville\n",
      "Link: https://www.rent.com/indiana/indianapolis-apartments/furnished-studio-indianapolis-northwest-i-465-4-100033030, Price: $1,734, Info: Furnished Studio - Indianapolis - Northwest - I-465\n",
      "Link: https://www.rent.com/indiana/indianapolis-apartments/harrison-point-apartments-4-lc5204802, Price: $748, Info: Harrison Point Apartments\n",
      "Link: https://www.rent.com/indiana/indianapolis-condos/6124-hillside-ave-4-lv1288917861, Price: $750, Info: 6124 Hillside Ave\n",
      "Link: https://www.rent.com/indiana/fishers-apartments/the-district-at-saxony-4-100028753, Price: Contact for Price, Info: The District at Saxony\n",
      "Link: https://www.rent.com/indiana/westfield-apartments/hamilton-square-4-449991, Price: $927+, Info: Hamilton Square\n",
      "Link: https://www.rent.com/indiana/indianapolis-apartments/reflections-4-428880, Price: $844+, Info: Reflections\n",
      "Link: https://www.rent.com/indiana/carmel-apartments/the-kent-at-carmel-city-center-4-100076779, Price: $945+, Info: The Kent at Carmel City Center\n",
      "Link: https://www.rent.com/indiana/indianapolis-apartments/pickwick-farms-4-678893, Price: $887+, Info: Pickwick Farms\n",
      "Some Element Wasn't Found... Skipping\n",
      "Link: https://www.rent.com/indiana/indianapolis-apartments/landmark-apartments-and-townhomes-4-429492, Price: $795+, Info: Landmark Apartments & Townhomes\n",
      "Link: https://www.rent.com/indiana/carmel-apartments/the-residences-at-carmel-city-center-4-100027820, Price: $1,460+, Info: The Residences at Carmel City Center\n",
      "Link: https://www.rent.com/indiana/carmel-apartments/signature-at-carmel-4-100115284, Price: $1,390+, Info: Signature at Carmel\n",
      "Link: https://www.rent.com/indiana/indianapolis-apartments/avia-lofts-at-founders-road-4-100111865, Price: Contact for Price, Info: AVIA Lofts at Founders Road\n",
      "Link: https://www.rent.com/indiana/indianapolis-apartments/lake-castleton-4-427629, Price: $725+, Info: Lake Castleton\n",
      "Link: https://www.rent.com/indiana/indianapolis-apartments/kings-reserve-college-park-4-100114922, Price: $850+, Info: King's Reserve College Park\n",
      "Link: https://www.rent.com/indiana/indianapolis-apartments/furnished-studio-indianapolis-castleton-4-100033021, Price: $1,859, Info: Furnished Studio - Indianapolis - Castleton\n",
      "Link: https://www.rent.com/indiana/indianapolis-apartments/furnished-studio-indianapolis-lawrence-4-100112519, Price: $1,199, Info: Furnished Studio - Indianapolis - Lawrence\n",
      "Link: https://www.rent.com/indiana/indianapolis-condos/6134-hillside-ave-4-lv1287397473, Price: $750, Info: 6134 Hillside Ave\n",
      "Link: https://www.rent.com/indiana/zionsville-houses/74-s-main-st-4-lv1250942851, Price: $3,200, Info: 74 S Main St\n"
     ]
    },
    {
     "ename": "StaleElementReferenceException",
     "evalue": "Message: stale element reference: stale element not found\n  (Session info: chrome=119.0.6045.199); For documentation on this error, please visit: https://www.selenium.dev/documentation/webdriver/troubleshooting/errors#stale-element-reference-exception\nStacktrace:\n0   chromedriver                        0x0000000100dc2004 chromedriver + 4169732\n1   chromedriver                        0x0000000100db9ff8 chromedriver + 4136952\n2   chromedriver                        0x0000000100a0f500 chromedriver + 292096\n3   chromedriver                        0x0000000100a14808 chromedriver + 313352\n4   chromedriver                        0x0000000100a16780 chromedriver + 321408\n5   chromedriver                        0x0000000100a168ac chromedriver + 321708\n6   chromedriver                        0x0000000100a566e8 chromedriver + 583400\n7   chromedriver                        0x0000000100a4a3b4 chromedriver + 533428\n8   chromedriver                        0x0000000100a49db4 chromedriver + 531892\n9   chromedriver                        0x0000000100a8f818 chromedriver + 817176\n10  chromedriver                        0x0000000100a485e8 chromedriver + 525800\n11  chromedriver                        0x0000000100a494b8 chromedriver + 529592\n12  chromedriver                        0x0000000100d88334 chromedriver + 3932980\n13  chromedriver                        0x0000000100d8c970 chromedriver + 3950960\n14  chromedriver                        0x0000000100d70774 chromedriver + 3835764\n15  chromedriver                        0x0000000100d8d478 chromedriver + 3953784\n16  chromedriver                        0x0000000100d62ab4 chromedriver + 3779252\n17  chromedriver                        0x0000000100da9914 chromedriver + 4069652\n18  chromedriver                        0x0000000100da9a90 chromedriver + 4070032\n19  chromedriver                        0x0000000100db9c70 chromedriver + 4136048\n20  libsystem_pthread.dylib             0x000000019091b034 _pthread_start + 136\n21  libsystem_pthread.dylib             0x0000000190915e3c thread_start + 8\n",
     "output_type": "error",
     "traceback": [
      "\u001b[0;31m---------------------------------------------------------------------------\u001b[0m",
      "\u001b[0;31mStaleElementReferenceException\u001b[0m            Traceback (most recent call last)",
      "Cell \u001b[0;32mIn[5], line 31\u001b[0m\n\u001b[1;32m     29\u001b[0m next_button \u001b[38;5;241m=\u001b[39m wait\u001b[38;5;241m.\u001b[39muntil(EC\u001b[38;5;241m.\u001b[39melement_to_be_clickable((By\u001b[38;5;241m.\u001b[39mCSS_SELECTOR, \u001b[38;5;124m'\u001b[39m\u001b[38;5;124mdiv._f23ab8ab button[data-tid=\u001b[39m\u001b[38;5;124m\"\u001b[39m\u001b[38;5;124mpagination-next-button\u001b[39m\u001b[38;5;124m\"\u001b[39m\u001b[38;5;124m]\u001b[39m\u001b[38;5;124m'\u001b[39m)))\n\u001b[1;32m     30\u001b[0m driver\u001b[38;5;241m.\u001b[39mexecute_script(\u001b[38;5;124m\"\u001b[39m\u001b[38;5;124marguments[0].scrollIntoView(true);\u001b[39m\u001b[38;5;124m\"\u001b[39m, next_button)\n\u001b[0;32m---> 31\u001b[0m next_button\u001b[38;5;241m.\u001b[39mclick()\n\u001b[1;32m     33\u001b[0m \u001b[38;5;66;03m# Ensuring that the next page has fully loaded by checking the presence of the list\u001b[39;00m\n\u001b[1;32m     34\u001b[0m wait\u001b[38;5;241m.\u001b[39muntil(EC\u001b[38;5;241m.\u001b[39mpresence_of_element_located((By\u001b[38;5;241m.\u001b[39mCSS_SELECTOR, \u001b[38;5;124m\"\u001b[39m\u001b[38;5;124mul._135203e1\u001b[39m\u001b[38;5;124m\"\u001b[39m)))\n",
      "File \u001b[0;32m/opt/anaconda3/lib/python3.11/site-packages/selenium/webdriver/remote/webelement.py:94\u001b[0m, in \u001b[0;36mWebElement.click\u001b[0;34m(self)\u001b[0m\n\u001b[1;32m     92\u001b[0m \u001b[38;5;28;01mdef\u001b[39;00m \u001b[38;5;21mclick\u001b[39m(\u001b[38;5;28mself\u001b[39m) \u001b[38;5;241m-\u001b[39m\u001b[38;5;241m>\u001b[39m \u001b[38;5;28;01mNone\u001b[39;00m:\n\u001b[1;32m     93\u001b[0m \u001b[38;5;250m    \u001b[39m\u001b[38;5;124;03m\"\"\"Clicks the element.\"\"\"\u001b[39;00m\n\u001b[0;32m---> 94\u001b[0m     \u001b[38;5;28mself\u001b[39m\u001b[38;5;241m.\u001b[39m_execute(Command\u001b[38;5;241m.\u001b[39mCLICK_ELEMENT)\n",
      "File \u001b[0;32m/opt/anaconda3/lib/python3.11/site-packages/selenium/webdriver/remote/webelement.py:395\u001b[0m, in \u001b[0;36mWebElement._execute\u001b[0;34m(self, command, params)\u001b[0m\n\u001b[1;32m    393\u001b[0m     params \u001b[38;5;241m=\u001b[39m {}\n\u001b[1;32m    394\u001b[0m params[\u001b[38;5;124m\"\u001b[39m\u001b[38;5;124mid\u001b[39m\u001b[38;5;124m\"\u001b[39m] \u001b[38;5;241m=\u001b[39m \u001b[38;5;28mself\u001b[39m\u001b[38;5;241m.\u001b[39m_id\n\u001b[0;32m--> 395\u001b[0m \u001b[38;5;28;01mreturn\u001b[39;00m \u001b[38;5;28mself\u001b[39m\u001b[38;5;241m.\u001b[39m_parent\u001b[38;5;241m.\u001b[39mexecute(command, params)\n",
      "File \u001b[0;32m/opt/anaconda3/lib/python3.11/site-packages/selenium/webdriver/remote/webdriver.py:347\u001b[0m, in \u001b[0;36mWebDriver.execute\u001b[0;34m(self, driver_command, params)\u001b[0m\n\u001b[1;32m    345\u001b[0m response \u001b[38;5;241m=\u001b[39m \u001b[38;5;28mself\u001b[39m\u001b[38;5;241m.\u001b[39mcommand_executor\u001b[38;5;241m.\u001b[39mexecute(driver_command, params)\n\u001b[1;32m    346\u001b[0m \u001b[38;5;28;01mif\u001b[39;00m response:\n\u001b[0;32m--> 347\u001b[0m     \u001b[38;5;28mself\u001b[39m\u001b[38;5;241m.\u001b[39merror_handler\u001b[38;5;241m.\u001b[39mcheck_response(response)\n\u001b[1;32m    348\u001b[0m     response[\u001b[38;5;124m\"\u001b[39m\u001b[38;5;124mvalue\u001b[39m\u001b[38;5;124m\"\u001b[39m] \u001b[38;5;241m=\u001b[39m \u001b[38;5;28mself\u001b[39m\u001b[38;5;241m.\u001b[39m_unwrap_value(response\u001b[38;5;241m.\u001b[39mget(\u001b[38;5;124m\"\u001b[39m\u001b[38;5;124mvalue\u001b[39m\u001b[38;5;124m\"\u001b[39m, \u001b[38;5;28;01mNone\u001b[39;00m))\n\u001b[1;32m    349\u001b[0m     \u001b[38;5;28;01mreturn\u001b[39;00m response\n",
      "File \u001b[0;32m/opt/anaconda3/lib/python3.11/site-packages/selenium/webdriver/remote/errorhandler.py:229\u001b[0m, in \u001b[0;36mErrorHandler.check_response\u001b[0;34m(self, response)\u001b[0m\n\u001b[1;32m    227\u001b[0m         alert_text \u001b[38;5;241m=\u001b[39m value[\u001b[38;5;124m\"\u001b[39m\u001b[38;5;124malert\u001b[39m\u001b[38;5;124m\"\u001b[39m]\u001b[38;5;241m.\u001b[39mget(\u001b[38;5;124m\"\u001b[39m\u001b[38;5;124mtext\u001b[39m\u001b[38;5;124m\"\u001b[39m)\n\u001b[1;32m    228\u001b[0m     \u001b[38;5;28;01mraise\u001b[39;00m exception_class(message, screen, stacktrace, alert_text)  \u001b[38;5;66;03m# type: ignore[call-arg]  # mypy is not smart enough here\u001b[39;00m\n\u001b[0;32m--> 229\u001b[0m \u001b[38;5;28;01mraise\u001b[39;00m exception_class(message, screen, stacktrace)\n",
      "\u001b[0;31mStaleElementReferenceException\u001b[0m: Message: stale element reference: stale element not found\n  (Session info: chrome=119.0.6045.199); For documentation on this error, please visit: https://www.selenium.dev/documentation/webdriver/troubleshooting/errors#stale-element-reference-exception\nStacktrace:\n0   chromedriver                        0x0000000100dc2004 chromedriver + 4169732\n1   chromedriver                        0x0000000100db9ff8 chromedriver + 4136952\n2   chromedriver                        0x0000000100a0f500 chromedriver + 292096\n3   chromedriver                        0x0000000100a14808 chromedriver + 313352\n4   chromedriver                        0x0000000100a16780 chromedriver + 321408\n5   chromedriver                        0x0000000100a168ac chromedriver + 321708\n6   chromedriver                        0x0000000100a566e8 chromedriver + 583400\n7   chromedriver                        0x0000000100a4a3b4 chromedriver + 533428\n8   chromedriver                        0x0000000100a49db4 chromedriver + 531892\n9   chromedriver                        0x0000000100a8f818 chromedriver + 817176\n10  chromedriver                        0x0000000100a485e8 chromedriver + 525800\n11  chromedriver                        0x0000000100a494b8 chromedriver + 529592\n12  chromedriver                        0x0000000100d88334 chromedriver + 3932980\n13  chromedriver                        0x0000000100d8c970 chromedriver + 3950960\n14  chromedriver                        0x0000000100d70774 chromedriver + 3835764\n15  chromedriver                        0x0000000100d8d478 chromedriver + 3953784\n16  chromedriver                        0x0000000100d62ab4 chromedriver + 3779252\n17  chromedriver                        0x0000000100da9914 chromedriver + 4069652\n18  chromedriver                        0x0000000100da9a90 chromedriver + 4070032\n19  chromedriver                        0x0000000100db9c70 chromedriver + 4136048\n20  libsystem_pthread.dylib             0x000000019091b034 _pthread_start + 136\n21  libsystem_pthread.dylib             0x0000000190915e3c thread_start + 8\n"
     ]
    }
   ],
   "source": [
    "driver = webdriver.Chrome()\n",
    "driver.get(rent_url)\n",
    "\n",
    "# Wait for page to load all elements\n",
    "wait = WebDriverWait(driver, 10)\n",
    "\n",
    "# Function for scraping information from listings\n",
    "\n",
    "def scrape_listings():\n",
    "    # Finding all the listed items\n",
    "    listings = driver.find_elements(By.CSS_SELECTOR, \"li._ebc85881._daeb6c9b\")\n",
    "    for listing in listings :\n",
    "        try :\n",
    "            link = listing.find_element(By.CSS_SELECTOR, 'a').get_attribute('href')\n",
    "            price = listing.find_element(By.CSS_SELECTOR, 'span._cbd12d2a').text\n",
    "            info = listing.find_element(By.CSS_SELECTOR, 'p._06bd281d').text\n",
    "            print(f'Link: {link}, Price: {price}, Info: {info}')\n",
    "        except NoSuchElementException:\n",
    "            print(\"Some Element Wasn't Found... Skipping\")\n",
    "            continue\n",
    "            \n",
    "while True:\n",
    "    # Call Scraping Function\n",
    "    scrape_listings()\n",
    "    try:\n",
    "        # Pagination\n",
    "        # Had issues with pagination. Needed to search not only for the button, but the div it relates too\n",
    "        # In order to get a more specific result. Also scrolled down with a script to make sure next btn is visble\n",
    "        next_button = wait.until(EC.element_to_be_clickable((By.CSS_SELECTOR, 'div._f23ab8ab button[data-tid=\"pagination-next-button\"]')))\n",
    "        driver.execute_script(\"arguments[0].scrollIntoView(true);\", next_button)\n",
    "        next_button.click()\n",
    "        \n",
    "        # Ensuring that the next page has fully loaded by checking the presence of the list\n",
    "        wait.until(EC.presence_of_element_located((By.CSS_SELECTOR, \"ul._135203e1\")))\n",
    "        \n",
    "    except TimeoutException :\n",
    "        print(\"Reached Last Page Or Next Button Isn't Clickable\")\n",
    "        break\n",
    "        \n",
    "    except NoSuchElementException :\n",
    "        print(\"Next Button Not Found, Possibly at last page\")\n",
    "        break\n",
    "# Closing Driver\n",
    "driver.quit()"
   ]
  },
  {
   "cell_type": "code",
   "execution_count": null,
   "id": "258cd3d8",
   "metadata": {},
   "outputs": [],
   "source": []
  }
 ],
 "metadata": {
  "kernelspec": {
   "display_name": "Python 3 (ipykernel)",
   "language": "python",
   "name": "python3"
  },
  "language_info": {
   "codemirror_mode": {
    "name": "ipython",
    "version": 3
   },
   "file_extension": ".py",
   "mimetype": "text/x-python",
   "name": "python",
   "nbconvert_exporter": "python",
   "pygments_lexer": "ipython3",
   "version": "3.11.7"
  }
 },
 "nbformat": 4,
 "nbformat_minor": 5
}
